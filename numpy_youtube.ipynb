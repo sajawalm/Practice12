{
 "cells": [
  {
   "cell_type": "markdown",
   "metadata": {},
   "source": [
    "# creating random values"
   ]
  },
  {
   "cell_type": "markdown",
   "metadata": {},
   "source": [
    "# rand()"
   ]
  },
  {
   "cell_type": "code",
   "execution_count": 2,
   "metadata": {},
   "outputs": [
    {
     "name": "stdout",
     "output_type": "stream",
     "text": [
      "[0.11782179 0.58902695 0.82243205 0.97123836]\n"
     ]
    }
   ],
   "source": [
    "import numpy as np\n",
    "var = np.random.rand(4)\n",
    "print(var)"
   ]
  },
  {
   "cell_type": "code",
   "execution_count": 4,
   "metadata": {},
   "outputs": [
    {
     "name": "stdout",
     "output_type": "stream",
     "text": [
      "[[0.65339825 0.60625191 0.67597787 0.41720674 0.69081069]\n",
      " [0.01612898 0.90119834 0.4419436  0.78943472 0.58424297]]\n"
     ]
    }
   ],
   "source": [
    "# 2-D\n",
    "var1 =np.random.rand(2,5)\n",
    "print(var1)"
   ]
  },
  {
   "cell_type": "code",
   "execution_count": 13,
   "metadata": {},
   "outputs": [
    {
     "name": "stdout",
     "output_type": "stream",
     "text": [
      "[[[0.80202645 0.75984601 0.38015621]\n",
      "  [0.15375439 0.99495082 0.84901138]\n",
      "  [0.44408233 0.3901886  0.20517607]]\n",
      "\n",
      " [[0.51965932 0.19404181 0.51898462]\n",
      "  [0.93769961 0.82915434 0.57136238]\n",
      "  [0.89361228 0.7760218  0.20759708]]]\n"
     ]
    }
   ],
   "source": [
    "# 3-D\n",
    "var1 =np.random.rand(2,3,3)\n",
    "print(var1)"
   ]
  },
  {
   "cell_type": "markdown",
   "metadata": {},
   "source": [
    "# randn()"
   ]
  },
  {
   "cell_type": "code",
   "execution_count": 6,
   "metadata": {},
   "outputs": [
    {
     "name": "stdout",
     "output_type": "stream",
     "text": [
      "[-0.67923343  0.22054109 -0.96685525  1.6165699  -0.14851022  0.15122668\n",
      " -1.33993841]\n"
     ]
    }
   ],
   "source": [
    "sar1 = np.random.randn(7)\n",
    "print(sar1)"
   ]
  },
  {
   "cell_type": "code",
   "execution_count": 9,
   "metadata": {},
   "outputs": [
    {
     "name": "stdout",
     "output_type": "stream",
     "text": [
      "[[ 1.56794946  1.00675172  0.5389033 ]\n",
      " [-0.09134019  0.4780924  -0.25871607]\n",
      " [-0.58000368 -0.13738536 -1.11076219]]\n"
     ]
    }
   ],
   "source": [
    "# 2-D\n",
    "sar2 = np.random.randn(3,3)\n",
    "print(sar2)"
   ]
  },
  {
   "cell_type": "code",
   "execution_count": 10,
   "metadata": {},
   "outputs": [
    {
     "name": "stdout",
     "output_type": "stream",
     "text": [
      "[[[ 0.56521026 -0.67281461  0.45145927]\n",
      "  [ 0.730344    1.82858247  1.77922573]\n",
      "  [ 0.73341969  0.35422369 -1.75718194]]\n",
      "\n",
      " [[ 0.98755014 -0.02025558  0.69099851]\n",
      "  [ 0.03482035  1.28350777 -1.51920228]\n",
      "  [-0.73589373 -0.66432422  0.08647435]]\n",
      "\n",
      " [[-0.68660767 -1.44309452 -1.56430198]\n",
      "  [ 0.51147945  0.98046057  1.1411509 ]\n",
      "  [-0.36726517  0.0787714   1.05352299]]]\n"
     ]
    }
   ],
   "source": [
    "# 3-D\n",
    "sar2 = np.random.randn(3,3,3)\n",
    "print(sar2)"
   ]
  },
  {
   "cell_type": "markdown",
   "metadata": {},
   "source": [
    "# ranf()"
   ]
  },
  {
   "cell_type": "code",
   "execution_count": 18,
   "metadata": {},
   "outputs": [
    {
     "name": "stdout",
     "output_type": "stream",
     "text": [
      "[0.98906939 0.37507235 0.77590117]\n"
     ]
    }
   ],
   "source": [
    "rf = np.random.ranf(3)\n",
    "print(rf)"
   ]
  },
  {
   "cell_type": "markdown",
   "metadata": {},
   "source": [
    "# randint()"
   ]
  },
  {
   "cell_type": "code",
   "execution_count": 28,
   "metadata": {},
   "outputs": [
    {
     "name": "stdout",
     "output_type": "stream",
     "text": [
      "[5 4 4]\n"
     ]
    }
   ],
   "source": [
    "rnd = np.random.randint(2,10,3)# min, max, total_number\n",
    "print(rnd)"
   ]
  },
  {
   "cell_type": "markdown",
   "metadata": {},
   "source": [
    "# Data types in numpy array"
   ]
  },
  {
   "cell_type": "markdown",
   "metadata": {},
   "source": [
    "- bool_\n",
    "- int_\n",
    "- intc\n",
    "- intp\n",
    "- int8\n",
    "- int16\n",
    "- int32\n",
    "- int64\n",
    "- uint8\n",
    "- uint16\n",
    "- uint32\n",
    "- uint64\n",
    "- float_\n",
    "- float16\n",
    "- float32\n",
    "- float64\n",
    "- complax\n",
    "- complax64\n",
    "- complax 128"
   ]
  },
  {
   "cell_type": "code",
   "execution_count": 34,
   "metadata": {},
   "outputs": [
    {
     "name": "stdout",
     "output_type": "stream",
     "text": [
      "data type:  int32\n"
     ]
    }
   ],
   "source": [
    "import numpy as np\n",
    "var = np.array([1,2,3,4])\n",
    "print(\"data type: \",var.dtype)"
   ]
  },
  {
   "cell_type": "code",
   "execution_count": 35,
   "metadata": {},
   "outputs": [
    {
     "name": "stdout",
     "output_type": "stream",
     "text": [
      "data type:  float64\n"
     ]
    }
   ],
   "source": [
    "import numpy as np\n",
    "var = np.array([1.2,2.3,3.4,4.5])\n",
    "print(\"data type: \",var.dtype)"
   ]
  },
  {
   "cell_type": "code",
   "execution_count": 36,
   "metadata": {},
   "outputs": [
    {
     "name": "stdout",
     "output_type": "stream",
     "text": [
      "data type:  <U7\n"
     ]
    }
   ],
   "source": [
    "import numpy as np\n",
    "var = np.array([\"name\", \"sajawal\", \"Bilal\"])\n",
    "print(\"data type: \",var.dtype)"
   ]
  },
  {
   "cell_type": "code",
   "execution_count": 38,
   "metadata": {},
   "outputs": [
    {
     "name": "stdout",
     "output_type": "stream",
     "text": [
      "data type:  <U7\n"
     ]
    }
   ],
   "source": [
    "import numpy as np\n",
    "var = np.array([\"name\", \"sajawal\", \"Bilal\",1,2,3,4])\n",
    "print(\"data type: \",var.dtype)"
   ]
  },
  {
   "cell_type": "markdown",
   "metadata": {},
   "source": [
    "# Data types"
   ]
  },
  {
   "cell_type": "markdown",
   "metadata": {},
   "source": [
    "- Data types as functions\n",
    "- i-\tinteger\n",
    "- b-\tBoolean\n",
    "- u-\tUnsigned integer\n",
    "- f-   \tfloat\n",
    "- c-\tcomplex float\n",
    "- m-\ttimedelta\n",
    "- M-\tdatetime\n",
    "- O-\tObject\n",
    "- S-\tString\n",
    "- U-\tUnicode string\n",
    "- V-\tthe fixed chunk of memory for other types (void)\n"
   ]
  },
  {
   "cell_type": "code",
   "execution_count": 41,
   "metadata": {},
   "outputs": [
    {
     "name": "stdout",
     "output_type": "stream",
     "text": [
      "[1 2 3 4 5] DaTa type:  int8\n"
     ]
    }
   ],
   "source": [
    "x = np.array([1,2,3,4,5], dtype = np.int8)\n",
    "print(x, \"DaTa type: \",x.dtype)"
   ]
  },
  {
   "cell_type": "code",
   "execution_count": 42,
   "metadata": {},
   "outputs": [
    {
     "name": "stdout",
     "output_type": "stream",
     "text": [
      "[1 2 3 4 5] DaTa type:  float32\n"
     ]
    }
   ],
   "source": [
    "x1 = np.array([1,2,3,4,5], dtype = \"f\")\n",
    "print(x, \"DaTa type: \",x1.dtype)"
   ]
  },
  {
   "cell_type": "code",
   "execution_count": 46,
   "metadata": {},
   "outputs": [
    {
     "name": "stdout",
     "output_type": "stream",
     "text": [
      "DaTa type:  int32\n",
      "Data type:  float32\n",
      "Data type:  int32\n",
      "[1 2 3 4 5]\n",
      "[1. 2. 3. 4. 5.]\n",
      "[1 2 3 4 5]\n"
     ]
    }
   ],
   "source": [
    "x2 = np.array([1,2,3,4,5])\n",
    "\n",
    "new = np.float32(x2)\n",
    "\n",
    "new_one = np.int_(new)\n",
    "print(\"DaTa type: \",x2.dtype)\n",
    "print(\"Data type: \", new.dtype)\n",
    "print(\"Data type: \", new_one.dtype)\n",
    "print(x2)\n",
    "print(new)\n",
    "print(new_one)"
   ]
  },
  {
   "cell_type": "code",
   "execution_count": 47,
   "metadata": {},
   "outputs": [
    {
     "name": "stdout",
     "output_type": "stream",
     "text": [
      "[1 2 3 4 5]\n",
      "[1. 2. 3. 4. 5.]\n"
     ]
    }
   ],
   "source": [
    "x3 = np.array([1,2,3,4,5])\n",
    "new1 = x3.astype(float)\n",
    "print(x3)\n",
    "print(new1)"
   ]
  },
  {
   "cell_type": "markdown",
   "metadata": {},
   "source": [
    "# shape and reshaping in Numpy Arrays"
   ]
  },
  {
   "cell_type": "markdown",
   "metadata": {},
   "source": [
    "# shape"
   ]
  },
  {
   "cell_type": "code",
   "execution_count": 51,
   "metadata": {},
   "outputs": [
    {
     "name": "stdout",
     "output_type": "stream",
     "text": [
      "[[1 2 3 4]\n",
      " [3 4 4 4]]\n",
      "(2, 4)\n"
     ]
    }
   ],
   "source": [
    "import numpy as np\n",
    "var = np.array([[1,2,3,4],[3,4,4,4]])\n",
    "print(var)\n",
    "print(var.shape)"
   ]
  },
  {
   "cell_type": "code",
   "execution_count": 40,
   "metadata": {},
   "outputs": [
    {
     "name": "stdout",
     "output_type": "stream",
     "text": [
      "[[[[1 2 3 4]]]]\n",
      "\n",
      "4\n",
      "(1, 1, 1, 4)\n"
     ]
    }
   ],
   "source": [
    "import numpy as np\n",
    "var = np.array([1,2,3,4], ndmin = 4)\n",
    "print(var)\n",
    "print()\n",
    "print(var.ndim)\n",
    "print(var.shape)"
   ]
  },
  {
   "cell_type": "markdown",
   "metadata": {},
   "source": [
    "# reshape"
   ]
  },
  {
   "cell_type": "code",
   "execution_count": 8,
   "metadata": {},
   "outputs": [
    {
     "name": "stdout",
     "output_type": "stream",
     "text": [
      "[2 3 4 5 6 3] 1\n",
      "\n",
      "[[2 3]\n",
      " [4 5]\n",
      " [6 3]] 2\n"
     ]
    }
   ],
   "source": [
    "import numpy as np\n",
    "var2 = np.array([2,3,4,5,6,3])\n",
    "print(var2,var2.ndim)\n",
    "print()\n",
    "x = var2.reshape(3,2)\n",
    "print(x,x.ndim)"
   ]
  },
  {
   "cell_type": "code",
   "execution_count": 22,
   "metadata": {},
   "outputs": [
    {
     "name": "stdout",
     "output_type": "stream",
     "text": [
      "[2 3 4 5 6 3 4 5 6 8 9 0] 1\n",
      "\n",
      "[[[2 3]\n",
      "  [4 5]\n",
      "  [6 3]]\n",
      "\n",
      " [[4 5]\n",
      "  [6 8]\n",
      "  [9 0]]] 3\n",
      "\n",
      "[2 3 4 5 6 3 4 5 6 8 9 0] 1\n"
     ]
    }
   ],
   "source": [
    "# 3-Dimension array\n",
    "import numpy as np\n",
    "var3 = np.array([2,3,4,5,6,3,4,5,6,8,9,0])\n",
    "print(var3,var3.ndim)\n",
    "print()\n",
    "x = var3.reshape(2,3,2)\n",
    "print(x,x.ndim)\n",
    "print()\n",
    "one = x.reshape(-1)\n",
    "print(one,one.ndim)"
   ]
  },
  {
   "cell_type": "markdown",
   "metadata": {},
   "source": [
    "# Arithmatic Operations in Numpy Arrays"
   ]
  },
  {
   "cell_type": "code",
   "execution_count": 25,
   "metadata": {},
   "outputs": [
    {
     "name": "stdout",
     "output_type": "stream",
     "text": [
      "[1 2 3 4]\n",
      "\n",
      "[4 5 6 7]\n"
     ]
    }
   ],
   "source": [
    "import numpy as np\n",
    "# addition in 1-D\n",
    "var1 = np.array([1,2,3,4])\n",
    "print(var1)\n",
    "print()\n",
    "var_add = var1+3\n",
    "print(var_add)"
   ]
  },
  {
   "cell_type": "code",
   "execution_count": 26,
   "metadata": {},
   "outputs": [
    {
     "name": "stdout",
     "output_type": "stream",
     "text": [
      "[ 6  8 10 12]\n"
     ]
    }
   ],
   "source": [
    "import numpy as np\n",
    "# addition in 1-D\n",
    "var1 = np.array([1,2,3,4])\n",
    "var2 = np.array([5,6,7,8])\n",
    "var_add = var1+var2\n",
    "print(var_add)"
   ]
  },
  {
   "cell_type": "code",
   "execution_count": 27,
   "metadata": {},
   "outputs": [
    {
     "name": "stdout",
     "output_type": "stream",
     "text": [
      "[-4 -4 -4 -4]\n"
     ]
    }
   ],
   "source": [
    "import numpy as np\n",
    "# subtraction in 1-D\n",
    "var1 = np.array([1,2,3,4])\n",
    "var2 = np.array([5,6,7,8])\n",
    "var_minus = var1-var2\n",
    "print(var_minus)"
   ]
  },
  {
   "cell_type": "code",
   "execution_count": 28,
   "metadata": {},
   "outputs": [
    {
     "name": "stdout",
     "output_type": "stream",
     "text": [
      "[ 5 12 21 32]\n"
     ]
    }
   ],
   "source": [
    "import numpy as np\n",
    "# multiplication in 1-D\n",
    "var1 = np.array([1,2,3,4])\n",
    "var2 = np.array([5,6,7,8])\n",
    "var_mul = var1*var2\n",
    "print(var_mul)"
   ]
  },
  {
   "cell_type": "code",
   "execution_count": 32,
   "metadata": {},
   "outputs": [
    {
     "name": "stdout",
     "output_type": "stream",
     "text": [
      "[0 0 1 0]\n"
     ]
    }
   ],
   "source": [
    "import numpy as np\n",
    "# modulus in 1-D\n",
    "var1 = np.array([1,2,3,4])\n",
    "var2 = np.array([5,6,7,8])\n",
    "var_mod = var2%var1\n",
    "print(var_mod)"
   ]
  },
  {
   "cell_type": "code",
   "execution_count": 34,
   "metadata": {},
   "outputs": [
    {
     "name": "stdout",
     "output_type": "stream",
     "text": [
      "[4 5 6 7]\n"
     ]
    }
   ],
   "source": [
    "# numpy function\n",
    "var1 = np.array([1,2,3,4])\n",
    "var2 = np.array([5,6,7,8])\n",
    "var_add = np.add(var1,3)\n",
    "print(var_add)"
   ]
  },
  {
   "cell_type": "code",
   "execution_count": 36,
   "metadata": {},
   "outputs": [
    {
     "name": "stdout",
     "output_type": "stream",
     "text": [
      "[-2 -1  0  1]\n"
     ]
    }
   ],
   "source": [
    "# numpy function\n",
    "var1 = np.array([1,2,3,4])\n",
    "var2 = np.array([5,6,7,8])\n",
    "var_sub = np.subtract(var1,3)\n",
    "print(var_sub)"
   ]
  },
  {
   "cell_type": "markdown",
   "metadata": {},
   "source": [
    "# 2D array"
   ]
  },
  {
   "cell_type": "code",
   "execution_count": 16,
   "metadata": {},
   "outputs": [
    {
     "name": "stdout",
     "output_type": "stream",
     "text": [
      "[[0 1 2]\n",
      " [3 4 5]]\n",
      "[[0 1 2]\n",
      " [3 4 5]]\n",
      "\n",
      "[[ 0  1  4]\n",
      " [ 9 16 25]]\n"
     ]
    }
   ],
   "source": [
    "import numpy as np\n",
    "var1 = np.arange(6).reshape(2,3)\n",
    "var2 = np.arange(6).reshape(2,3)\n",
    "print(var1)\n",
    "print(var2)\n",
    "print()\n",
    "var_multiply = np.multiply(var1,var2)\n",
    "print(var_multiply)\n",
    "\n"
   ]
  },
  {
   "cell_type": "code",
   "execution_count": 38,
   "metadata": {},
   "outputs": [
    {
     "name": "stdout",
     "output_type": "stream",
     "text": [
      "6\n",
      "\n",
      "1\n",
      "\n",
      "0\n",
      "\n",
      "3\n",
      "[ 1  3  7 13 17 21 24 26]\n"
     ]
    }
   ],
   "source": [
    "var3 = np.array([1,2,4,6,4,4,3,2])\n",
    "print(np.max(var3))# maximum\n",
    "print()\n",
    "print(np.min(var3))# minimum\n",
    "print()\n",
    "print(np.argmin(var3))# location of minimum value\n",
    "print()\n",
    "print(np.argmax(var3)) # location of maximum value\n",
    "print(np.cumsum(var3)) "
   ]
  },
  {
   "cell_type": "code",
   "execution_count": 37,
   "metadata": {},
   "outputs": [
    {
     "name": "stdout",
     "output_type": "stream",
     "text": [
      "[[2 3 4 5 6]\n",
      " [4 5 6 1 7]]\n",
      "9\n",
      "[2 3 4 1 6]\n",
      "[[1.41421356 1.73205081 2.         2.23606798 2.44948974]\n",
      " [2.         2.23606798 2.44948974 1.         2.64575131]]\n"
     ]
    }
   ],
   "source": [
    "var12 = np.array([[2,3,4,5,6],[4,5,6,1,7]])\n",
    "print(var12)\n",
    "print(np.argmax(var12))\n",
    "print(np.min(var12, axis=0))\n",
    "print(np.sqrt(var12))"
   ]
  },
  {
   "cell_type": "markdown",
   "metadata": {},
   "source": [
    "# Broadcasting  Numpy Arrays"
   ]
  },
  {
   "cell_type": "markdown",
   "metadata": {},
   "source": [
    "- The term broadcasting describes how numpy treats arrays with different shapes during arithmetic operations. Subject to certain constraints, the smaller array is “broadcast” across the larger array so that they have compatible shapes"
   ]
  },
  {
   "cell_type": "code",
   "execution_count": 11,
   "metadata": {},
   "outputs": [
    {
     "name": "stdout",
     "output_type": "stream",
     "text": [
      "[1 2 3]\n",
      "(3,)\n",
      "\n",
      "[[1]\n",
      " [2]\n",
      " [3]] (3, 1)\n",
      "\n",
      "[[2 3 4]\n",
      " [3 4 5]\n",
      " [4 5 6]]\n"
     ]
    }
   ],
   "source": [
    "import numpy as np\n",
    "var1 = np.array([1,2,3])\n",
    "print(var1)\n",
    "print(var1.shape)\n",
    "print()\n",
    "var2 = np.array([[1],[2],[3]])\n",
    "print(var2,var2.shape)\n",
    "print()\n",
    "print(var1+var2)\n"
   ]
  },
  {
   "cell_type": "code",
   "execution_count": 12,
   "metadata": {},
   "outputs": [
    {
     "name": "stdout",
     "output_type": "stream",
     "text": [
      "[1 2 3]\n",
      "(3,)\n",
      "\n",
      "[[1]\n",
      " [2]\n",
      " [3]] (3, 1)\n",
      "\n",
      "[[1 2 3]\n",
      " [2 4 6]\n",
      " [3 6 9]]\n"
     ]
    }
   ],
   "source": [
    "var1 = np.array([1,2,3])\n",
    "print(var1)\n",
    "print(var1.shape)\n",
    "print()\n",
    "var2 = np.array([[1],[2],[3]])\n",
    "print(var2,var2.shape)\n",
    "print()\n",
    "print(var1*var2)\n"
   ]
  },
  {
   "cell_type": "code",
   "execution_count": 33,
   "metadata": {},
   "outputs": [
    {
     "name": "stdout",
     "output_type": "stream",
     "text": [
      "(2, 1)\n",
      "[[1]\n",
      " [2]]\n",
      "(2, 3)\n",
      "[[1 2 3]\n",
      " [4 5 6]]\n",
      "\n",
      "[[2 3 4]\n",
      " [6 7 8]]\n"
     ]
    }
   ],
   "source": [
    "# 2*1 and 2*3\n",
    "x = np.array([[1],[2]])\n",
    "print(x.shape)\n",
    "print(x)\n",
    "y = np.array([[1,2,3],[4,5,6]])\n",
    "print(y.shape)\n",
    "print(y)\n",
    "print()\n",
    "var = x+y\n",
    "print(var)"
   ]
  },
  {
   "cell_type": "markdown",
   "metadata": {},
   "source": [
    "# indexing  "
   ]
  },
  {
   "cell_type": "code",
   "execution_count": 35,
   "metadata": {},
   "outputs": [
    {
     "name": "stdout",
     "output_type": "stream",
     "text": [
      "4\n"
     ]
    }
   ],
   "source": [
    "# 1-D\n",
    "var = np.array([1,2,3,4,5])\n",
    "print(var[-2])"
   ]
  },
  {
   "cell_type": "code",
   "execution_count": 42,
   "metadata": {},
   "outputs": [
    {
     "name": "stdout",
     "output_type": "stream",
     "text": [
      "6\n",
      "2\n"
     ]
    }
   ],
   "source": [
    "# 2-D\n",
    "var1= np.array([[1,2,3],[4,5,6]])\n",
    "print(var1[1,2])\n",
    "print(var1[0,1])"
   ]
  },
  {
   "cell_type": "code",
   "execution_count": 78,
   "metadata": {},
   "outputs": [
    {
     "name": "stdout",
     "output_type": "stream",
     "text": [
      "[[[2 0 9]\n",
      "  [3 4 5]\n",
      "  [6 7 8]]] 3\n",
      "4\n",
      "6\n"
     ]
    }
   ],
   "source": [
    "# 3-D\n",
    "var2 = np.array([[[2,0,9],[3,4,5],[6,7,8]]])\n",
    "print(var2,var2.ndim)\n",
    "print(var2[0,1,1])\n",
    "print(var2[0,2,0])"
   ]
  },
  {
   "cell_type": "markdown",
   "metadata": {},
   "source": [
    "# slicing"
   ]
  },
  {
   "cell_type": "code",
   "execution_count": 65,
   "metadata": {},
   "outputs": [
    {
     "name": "stdout",
     "output_type": "stream",
     "text": [
      "[1 3]\n"
     ]
    }
   ],
   "source": [
    "x = np.array([1,2,3,4,5,6,7,8,9])\n",
    "print(x[0:4:1]) # slicing(0 start from, 4 end in, 1 steps)"
   ]
  },
  {
   "cell_type": "code",
   "execution_count": 82,
   "metadata": {},
   "outputs": [
    {
     "name": "stdout",
     "output_type": "stream",
     "text": [
      "[2 3 4 5]\n"
     ]
    }
   ],
   "source": [
    "x =np.array([[1,2,3,4,5],[6,7,3,4,5]])\n",
    "print(x[0,1:])"
   ]
  },
  {
   "cell_type": "markdown",
   "metadata": {},
   "source": [
    "# Iterating Numpy Arrays"
   ]
  },
  {
   "cell_type": "code",
   "execution_count": 89,
   "metadata": {},
   "outputs": [
    {
     "name": "stdout",
     "output_type": "stream",
     "text": [
      "[1 2 3 4 5]\n",
      "[6 7 3 4 5]\n",
      "\n",
      "1\n",
      "2\n",
      "3\n",
      "4\n",
      "5\n",
      "6\n",
      "7\n",
      "3\n",
      "4\n",
      "5\n"
     ]
    }
   ],
   "source": [
    "# 2-D array\n",
    "x =np.array([[1,2,3,4,5],[6,7,3,4,5]])\n",
    "for i in x:\n",
    "    print(i)\n",
    "print()\n",
    "for k in x:\n",
    "    for l in k:\n",
    "        print(l)"
   ]
  },
  {
   "cell_type": "code",
   "execution_count": 90,
   "metadata": {},
   "outputs": [
    {
     "name": "stdout",
     "output_type": "stream",
     "text": [
      "1\n",
      "2\n",
      "3\n",
      "4\n",
      "1\n",
      "2\n",
      "3\n",
      "4\n",
      "1\n",
      "2\n",
      "3\n",
      "4\n"
     ]
    }
   ],
   "source": [
    "# 3-D array\n",
    "y = np.array([[[1,2,3,4],[1,2,3,4],[1,2,3,4]]])\n",
    "for i in y:\n",
    "    for j in i:\n",
    "        for k in j:\n",
    "            print(k)"
   ]
  },
  {
   "cell_type": "code",
   "execution_count": 92,
   "metadata": {},
   "outputs": [
    {
     "name": "stdout",
     "output_type": "stream",
     "text": [
      "1\n",
      "2\n",
      "3\n",
      "4\n",
      "1\n",
      "2\n",
      "3\n",
      "4\n",
      "1\n",
      "2\n",
      "3\n",
      "4\n"
     ]
    }
   ],
   "source": [
    "y = np.array([[[1,2,3,4],[1,2,3,4],[1,2,3,4]]])\n",
    "for i in np.nditer(y):\n",
    "    print(i)"
   ]
  },
  {
   "cell_type": "code",
   "execution_count": 95,
   "metadata": {},
   "outputs": [
    {
     "name": "stdout",
     "output_type": "stream",
     "text": [
      "(array([[[1, 2, 3, 4],\n",
      "        [1, 2, 3, 4],\n",
      "        [1, 2, 3, 4]]]), [[[1, 2, 3, 4], [1, 2, 3, 4], [1, 2, 3, 4]]])\n",
      "((0, 0, 0, 0), 1)\n",
      "((0, 0, 0, 1), 2)\n",
      "((0, 0, 0, 2), 3)\n",
      "((0, 0, 0, 3), 4)\n",
      "((0, 0, 1, 0), 1)\n",
      "((0, 0, 1, 1), 2)\n",
      "((0, 0, 1, 2), 3)\n",
      "((0, 0, 1, 3), 4)\n",
      "((0, 0, 2, 0), 1)\n",
      "((0, 0, 2, 1), 2)\n",
      "((0, 0, 2, 2), 3)\n",
      "((0, 0, 2, 3), 4)\n",
      "((1, 0, 0, 0), 1)\n",
      "((1, 0, 0, 1), 2)\n",
      "((1, 0, 0, 2), 3)\n",
      "((1, 0, 0, 3), 4)\n",
      "((1, 0, 1, 0), 1)\n",
      "((1, 0, 1, 1), 2)\n",
      "((1, 0, 1, 2), 3)\n",
      "((1, 0, 1, 3), 4)\n",
      "((1, 0, 2, 0), 1)\n",
      "((1, 0, 2, 1), 2)\n",
      "((1, 0, 2, 2), 3)\n",
      "((1, 0, 2, 3), 4)\n"
     ]
    }
   ],
   "source": [
    "y = np.array([[[1,2,3,4],[1,2,3,4],[1,2,3,4]]])\n",
    "for i in np.ndenumerate(y):\n",
    "    print(i)"
   ]
  },
  {
   "cell_type": "markdown",
   "metadata": {},
   "source": [
    "# copy vs view"
   ]
  },
  {
   "cell_type": "code",
   "execution_count": 98,
   "metadata": {},
   "outputs": [
    {
     "name": "stdout",
     "output_type": "stream",
     "text": [
      "z [1 2 3 4]\n",
      "co [1 2 3 4]\n"
     ]
    }
   ],
   "source": [
    "z = np.array([1,2,3,4])\n",
    "co = z.copy()\n",
    "print(\"z\", z)\n",
    "print(\"co\", co)"
   ]
  },
  {
   "cell_type": "code",
   "execution_count": 99,
   "metadata": {},
   "outputs": [
    {
     "name": "stdout",
     "output_type": "stream",
     "text": [
      "d [9 6 5 4 6]\n",
      "vi [9 6 5 4 6]\n"
     ]
    }
   ],
   "source": [
    "d = np.array([9,6,5,4,6])\n",
    "vi = d.view()\n",
    "print(\"d\", d)\n",
    "print(\"vi\", vi)"
   ]
  },
  {
   "cell_type": "markdown",
   "metadata": {},
   "source": [
    "# join array"
   ]
  },
  {
   "cell_type": "code",
   "execution_count": 101,
   "metadata": {},
   "outputs": [
    {
     "name": "stdout",
     "output_type": "stream",
     "text": [
      "[1 2 3 4 5 6 7 8]\n"
     ]
    }
   ],
   "source": [
    "# 1-D\n",
    "var = np.array([1,2,3,4])\n",
    "var1 = np.array([5,6,7,8])\n",
    "sa = np.concatenate((var,var1))\n",
    "print(sa)"
   ]
  },
  {
   "cell_type": "code",
   "execution_count": 108,
   "metadata": {},
   "outputs": [
    {
     "name": "stdout",
     "output_type": "stream",
     "text": [
      "[[1 2 3 4 1 2 3 4]\n",
      " [5 6 7 8 2 3 4 5]]\n"
     ]
    }
   ],
   "source": [
    "# 2-D\n",
    "var2 = np.array([[1,2,3,4],[5,6,7,8]])\n",
    "var3 =np.array([[1,2,3,4],[2,3,4,5]])\n",
    "sa2 = np.concatenate((var2,var3),axis = 1)\n",
    "print(sa2)"
   ]
  },
  {
   "cell_type": "code",
   "execution_count": 129,
   "metadata": {},
   "outputs": [
    {
     "name": "stdout",
     "output_type": "stream",
     "text": [
      "[1 2 3 4 5 6 7 8]\n",
      "\n",
      "[[1 2 3 4]\n",
      " [5 6 7 8]]\n",
      "\n",
      "[[[1 5]\n",
      "  [2 6]\n",
      "  [3 7]\n",
      "  [4 8]]]\n"
     ]
    }
   ],
   "source": [
    "vr = np.array([1,2,3,4])\n",
    "vr1 = np.array([5,6,7,8])\n",
    "sa = np.hstack((vr,vr1))# row \n",
    "sa2 = np.vstack((vr,vr1))# column\n",
    "sa3 = np.dstack((vr,vr1))# height\n",
    "print(sa)\n",
    "print()\n",
    "print(sa2)\n",
    "print()\n",
    "print(sa3)"
   ]
  },
  {
   "cell_type": "markdown",
   "metadata": {},
   "source": [
    "# split "
   ]
  },
  {
   "cell_type": "code",
   "execution_count": 132,
   "metadata": {},
   "outputs": [
    {
     "name": "stdout",
     "output_type": "stream",
     "text": [
      "[array([1, 2]), array([3, 4])]\n"
     ]
    }
   ],
   "source": [
    "vr = np.array([1,2,3,4])\n",
    "ar = np.array_split(vr,2)# variable name, arrays we want split into it\n",
    "print(ar)"
   ]
  },
  {
   "cell_type": "code",
   "execution_count": 142,
   "metadata": {},
   "outputs": [
    {
     "name": "stdout",
     "output_type": "stream",
     "text": [
      "[array([[1, 2, 3, 4]]), array([[3, 4, 5, 6]]), array([], shape=(0, 4), dtype=int32), array([], shape=(0, 4), dtype=int32)]\n"
     ]
    }
   ],
   "source": [
    "vr1 = np.array([[1,2,3,4],[3,4,5,6]])\n",
    "ar1 = np.array_split(vr1,4, axis=0)\n",
    "print(ar1)\n"
   ]
  },
  {
   "cell_type": "markdown",
   "metadata": {},
   "source": [
    "# search\n",
    "- search an array for a certain value, and return the indexes that get a match."
   ]
  },
  {
   "cell_type": "code",
   "execution_count": 147,
   "metadata": {},
   "outputs": [
    {
     "data": {
      "text/plain": [
       "(array([0, 2, 4, 5, 8], dtype=int64),)"
      ]
     },
     "execution_count": 147,
     "metadata": {},
     "output_type": "execute_result"
    }
   ],
   "source": [
    "vs = np.array([2,3,4,5,66,4,3,3,22,1])\n",
    "av = np.where(vs%2==0) # at indexes of 1, 6 and 7\n",
    "av"
   ]
  },
  {
   "cell_type": "markdown",
   "metadata": {},
   "source": [
    "# search sorted array\n",
    "- Search sorted array:  which performs a binary search in the array, and returns the index where the specified value would be inserted to maintain the search order."
   ]
  },
  {
   "cell_type": "code",
   "execution_count": 171,
   "metadata": {},
   "outputs": [
    {
     "data": {
      "text/plain": [
       "array([0], dtype=int64)"
      ]
     },
     "execution_count": 171,
     "metadata": {},
     "output_type": "execute_result"
    }
   ],
   "source": [
    "gs = np.array([2,3,4,5,8,9,10])\n",
    "av = np.searchsorted(gs,[2]) # at indexes of 1, 6 and 7\n",
    "av"
   ]
  },
  {
   "cell_type": "markdown",
   "metadata": {},
   "source": [
    "# sort\n",
    "- ordered sequence is any sequence that has an order corresponding to elements, like numeric or alphabetical, ascending or decending"
   ]
  },
  {
   "cell_type": "code",
   "execution_count": 173,
   "metadata": {},
   "outputs": [
    {
     "data": {
      "text/plain": [
       "array([ 1,  2,  3,  3,  3,  4,  4,  5,  5,  7,  8,  9, 99])"
      ]
     },
     "execution_count": 173,
     "metadata": {},
     "output_type": "execute_result"
    }
   ],
   "source": [
    "ve = np.array([3,4,5,3,1,2,3,4,5,7,8,99,9])\n",
    "se = np.sort(ve)\n",
    "se"
   ]
  },
  {
   "cell_type": "code",
   "execution_count": 174,
   "metadata": {},
   "outputs": [
    {
     "data": {
      "text/plain": [
       "array(['a', 'd', 'f', 'g', 'z'], dtype='<U1')"
      ]
     },
     "execution_count": 174,
     "metadata": {},
     "output_type": "execute_result"
    }
   ],
   "source": [
    "vs = np.array([\"a\",\"z\",\"d\",\"g\",\"f\"])\n",
    "ss = np.sort(vs)\n",
    "ss"
   ]
  },
  {
   "cell_type": "code",
   "execution_count": 177,
   "metadata": {},
   "outputs": [
    {
     "data": {
      "text/plain": [
       "array([[ 1,  2,  3,  3,  3,  4,  4,  5,  5,  7,  8,  9, 99],\n",
       "       [ 1,  1,  3,  3,  4,  5, 12, 12, 21, 21, 22, 34, 42]])"
      ]
     },
     "execution_count": 177,
     "metadata": {},
     "output_type": "execute_result"
    }
   ],
   "source": [
    "# 2-D array\n",
    "ve = np.array([[3,4,5,3,1,2,3,4,5,7,8,99,9],[3,42,22,1,1,21,21,12,34,12,3,4,5]])\n",
    "se = np.sort(ve)\n",
    "se"
   ]
  },
  {
   "cell_type": "markdown",
   "metadata": {},
   "source": [
    "# filter array\n",
    "- Getting some elements out of an existing array and creating a new array out of them"
   ]
  },
  {
   "cell_type": "code",
   "execution_count": 179,
   "metadata": {},
   "outputs": [
    {
     "name": "stdout",
     "output_type": "stream",
     "text": [
      "['a' 'f' 'g']\n"
     ]
    }
   ],
   "source": [
    "fila = np.array([\"a\",\"b\",\"f\",\"g\",\"z\"])\n",
    "y = [True,False, True, True,False]\n",
    "new_a = fila[y]\n",
    "print(new_a)"
   ]
  },
  {
   "cell_type": "markdown",
   "metadata": {},
   "source": [
    "# Arithmetic Functions :\n",
    "- •\tShuffle\n",
    "- •\tUnique\n",
    "- •\tResize\n",
    "- •\tFlatten\n",
    "- •\tRavel\n"
   ]
  },
  {
   "cell_type": "code",
   "execution_count": 184,
   "metadata": {},
   "outputs": [
    {
     "name": "stdout",
     "output_type": "stream",
     "text": [
      "[1 6 3 4 5 2]\n"
     ]
    }
   ],
   "source": [
    "shuf = np.array([1,2,3,4,5,6])\n",
    "np.random.shuffle(shuf)\n",
    "print(shuf)"
   ]
  },
  {
   "cell_type": "code",
   "execution_count": 4,
   "metadata": {},
   "outputs": [
    {
     "name": "stdout",
     "output_type": "stream",
     "text": [
      "(array([ 1,  2,  3,  4,  6,  7,  8,  9, 15, 33]), array([ 0,  1,  4,  5, 13, 14, 15, 16, 12,  6], dtype=int64), array([2, 7, 1, 1, 1, 1, 1, 1, 1, 1], dtype=int64))\n"
     ]
    }
   ],
   "source": [
    "# unique\n",
    "import numpy as np\n",
    "x = np.array([1,2,2,2,3,4,33,2,2,1,2,2,15,6,7,8,9])\n",
    "y = np.unique(x, return_index=True, return_counts=True)\n",
    "print(y)"
   ]
  },
  {
   "cell_type": "code",
   "execution_count": 6,
   "metadata": {},
   "outputs": [
    {
     "name": "stdout",
     "output_type": "stream",
     "text": [
      "[[1 2]\n",
      " [3 4]\n",
      " [5 6]]\n"
     ]
    }
   ],
   "source": [
    "# resize\n",
    "var = np.array([1,2,3,4,5,6,7])\n",
    "y = np.resize(var,(3,2))\n",
    "print(y)"
   ]
  },
  {
   "cell_type": "code",
   "execution_count": 16,
   "metadata": {},
   "outputs": [
    {
     "name": "stdout",
     "output_type": "stream",
     "text": [
      "[1 2 3 4 5 6]\n",
      "raval :  [1 3 5 2 4 6]\n"
     ]
    }
   ],
   "source": [
    "# flatten\n",
    "var = np.array([1,2,3,4,5,6,7])\n",
    "y = np.resize(var,(3,2))\n",
    "print(y.flatten(order = \"C\"))\n",
    "print(\"raval : \",np.ravel(y, order = \"F\"))"
   ]
  },
  {
   "cell_type": "markdown",
   "metadata": {},
   "source": [
    "# Insert and Delete Function"
   ]
  },
  {
   "cell_type": "code",
   "execution_count": 21,
   "metadata": {},
   "outputs": [
    {
     "name": "stdout",
     "output_type": "stream",
     "text": [
      "[ 1  2 14  3  4 14]\n"
     ]
    }
   ],
   "source": [
    "# insert\n",
    "import numpy as np\n",
    "x = np.array([1,2,3,4])\n",
    "v= np.insert(x, (2,4), 14)\n",
    "print(v)"
   ]
  },
  {
   "cell_type": "code",
   "execution_count": 30,
   "metadata": {},
   "outputs": [
    {
     "name": "stdout",
     "output_type": "stream",
     "text": [
      "[[1 2 6 3 4 7]\n",
      " [2 3 6 4 5 7]]\n"
     ]
    }
   ],
   "source": [
    "# 2-D\n",
    "var1 = np.array([[1,2,3,4],[2,3,4,5]])\n",
    "v1 = np.insert(var1, (2,4), [6,7], axis =1)\n",
    "print(v1)"
   ]
  },
  {
   "cell_type": "code",
   "execution_count": 31,
   "metadata": {},
   "outputs": [
    {
     "name": "stdout",
     "output_type": "stream",
     "text": [
      "[1 2 3]\n"
     ]
    }
   ],
   "source": [
    "# Delete\n",
    "x = np.array([1,2,3,4])\n",
    "v2 = np.delete(x,3)\n",
    "print(v2)"
   ]
  },
  {
   "cell_type": "code",
   "execution_count": null,
   "metadata": {},
   "outputs": [],
   "source": []
  }
 ],
 "metadata": {
  "kernelspec": {
   "display_name": "Python 3.10.6 64-bit",
   "language": "python",
   "name": "python3"
  },
  "language_info": {
   "codemirror_mode": {
    "name": "ipython",
    "version": 3
   },
   "file_extension": ".py",
   "mimetype": "text/x-python",
   "name": "python",
   "nbconvert_exporter": "python",
   "pygments_lexer": "ipython3",
   "version": "3.10.6"
  },
  "vscode": {
   "interpreter": {
    "hash": "fbc768028c3e6ead51d9a200ddcb2ec858ae62844dcd1994729a8279be9b48f2"
   }
  }
 },
 "nbformat": 4,
 "nbformat_minor": 4
}
