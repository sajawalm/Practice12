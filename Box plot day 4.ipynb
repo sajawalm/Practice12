{
 "cells": [
  {
   "cell_type": "code",
   "execution_count": null,
   "metadata": {},
   "outputs": [],
   "source": [
    "import seaborn as sns\n",
    "\n",
    "# canvas(baloon board)\n",
    "sns.set(style = \"whitegrid\")\n",
    "kashti = sns.load_dataset(\"titanic\")\n",
    "sns.boxplot(x = \"class\", y = \"fare\", data = kashti)"
   ]
  },
  {
   "cell_type": "code",
   "execution_count": null,
   "metadata": {},
   "outputs": [],
   "source": [
    "import seaborn as sns\n",
    "# canvas(baloon board)\n",
    "sns.set(style = \"whitegrid\")\n",
    "tip = sns.load_dataset(\"tips\")\n",
    "tip\n",
    "sns.boxplot(x =\"day\", y = \"tip\", data = tip, saturation = 1)"
   ]
  },
  {
   "cell_type": "code",
   "execution_count": null,
   "metadata": {},
   "outputs": [],
   "source": [
    "import seaborn as sns\n",
    "# canvas(baloon board)\n",
    "sns.set(style = \"whitegrid\")\n",
    "tip = sns.load_dataset(\"tips\")\n",
    "tip.describe()\n",
    "sns.boxplot(x =\"day\", y = \"tip\", data = tip, saturation = 1)\n"
   ]
  },
  {
   "cell_type": "code",
   "execution_count": null,
   "metadata": {},
   "outputs": [],
   "source": [
    "tip"
   ]
  },
  {
   "cell_type": "markdown",
   "metadata": {},
   "source": [
    "numeric value are mostly stored in *y* axis and categorical values are stored in *x* axis.\n",
    "- categorical values are mostly stored in *hue."
   ]
  },
  {
   "cell_type": "code",
   "execution_count": null,
   "metadata": {},
   "outputs": [],
   "source": [
    "import seaborn as sns\n",
    "sns.set(style = \"whitegrid\")\n",
    "tip = sns.load_dataset(\"tips\")\n",
    "sns.boxplot(x =\"tip\", y =\"day\", data = tip, saturation = 1,hue = \"smoker\", palette = \"Set2\", dodge = True)\n"
   ]
  },
  {
   "cell_type": "code",
   "execution_count": null,
   "metadata": {},
   "outputs": [],
   "source": [
    "import seaborn as sns\n",
    "# canvas(baloon board)\n",
    "sns.set(style = \"whitegrid\")\n",
    "tip = sns.load_dataset(\"tips\")\n",
    "tip.describe()\n",
    "sns.boxplot(x =\"day\", y = \"tip\", data = tip, saturation = 1)\n"
   ]
  },
  {
   "cell_type": "code",
   "execution_count": null,
   "metadata": {},
   "outputs": [],
   "source": [
    "import seaborn as sns\n",
    "import pandas as pd\n",
    "import numpy as num\n",
    "\n",
    "kashti = sns.load_dataset(\"titanic\")\n",
    "kashti.head() # when we use head() we see the first  5 rows of data"
   ]
  },
  {
   "cell_type": "code",
   "execution_count": 2,
   "metadata": {},
   "outputs": [
    {
     "data": {
      "text/plain": [
       "<AxesSubplot:xlabel='survived', ylabel='age'>"
      ]
     },
     "execution_count": 2,
     "metadata": {},
     "output_type": "execute_result"
    },
    {
     "data": {
      "image/png": "[encoded data removed]",
      "text/plain": [
       "<Figure size 432x288 with 1 Axes>"
      ]
     },
     "metadata": {
      "needs_background": "light"
     },
     "output_type": "display_data"
    }
   ],
   "source": [
    "import seaborn as sns\n",
    "import pandas as pd\n",
    "import numpy as num\n",
    "\n",
    "kashti = sns.load_dataset(\"titanic\")\n",
    "sns.boxplot(x = \"survived\", y = \"age\",showmeans = True, data = kashti)"
   ]
  },
  {
   "cell_type": "code",
   "execution_count": 8,
   "metadata": {},
   "outputs": [
    {
     "data": {
      "text/plain": [
       "<AxesSubplot:xlabel='survived', ylabel='age'>"
      ]
     },
     "execution_count": 8,
     "metadata": {},
     "output_type": "execute_result"
    },
    {
     "data": {
      "image/png": "[encoded data removed]",
      "text/plain": [
       "<Figure size 432x288 with 1 Axes>"
      ]
     },
     "metadata": {
      "needs_background": "light"
     },
     "output_type": "display_data"
    }
   ],
   "source": [
    "sns.boxplot(x = \"survived\", y = \"age\",showmeans = True,\n",
    "            meanprops = {\"marker\": \"*\",\"markersize\": \"10\", \"markeredgecolor\": \"red\"},data = kashti)\n",
    "\n"
   ]
  },
  {
   "cell_type": "code",
   "execution_count": null,
   "metadata": {},
   "outputs": [],
   "source": []
  },
  {
   "cell_type": "code",
   "execution_count": null,
   "metadata": {},
   "outputs": [],
   "source": []
  }
 ],
 "metadata": {
  "kernelspec": {
   "display_name": "Python 3",
   "language": "python",
   "name": "python3"
  },
  "language_info": {
   "codemirror_mode": {
    "name": "ipython",
    "version": 3
   },
   "file_extension": ".py",
   "mimetype": "text/x-python",
   "name": "python",
   "nbconvert_exporter": "python",
   "pygments_lexer": "ipython3",
   "version": "3.8.5"
  }
 },
 "nbformat": 4,
 "nbformat_minor": 4
}
