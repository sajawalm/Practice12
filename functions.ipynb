{
 "cells": [
  {
   "cell_type": "code",
   "execution_count": 1,
   "metadata": {},
   "outputs": [
    {
     "name": "stdout",
     "output_type": "stream",
     "text": [
      "this is outside function\n"
     ]
    }
   ],
   "source": [
    "# A collection of instruction\n",
    "# A collection of code\n",
    "def function_1():\n",
    "    print(\"name\")\n",
    "    print(\"name2\")\n",
    "    print(\"name3\")\n",
    "print(\"this is outside function\")"
   ]
  },
  {
   "cell_type": "code",
   "execution_count": 2,
   "metadata": {},
   "outputs": [
    {
     "name": "stdout",
     "output_type": "stream",
     "text": [
      "name\n",
      "name2\n",
      "name3\n"
     ]
    }
   ],
   "source": [
    "function_1()"
   ]
  },
  {
   "cell_type": "code",
   "execution_count": 7,
   "metadata": {},
   "outputs": [
    {
     "name": "stdout",
     "output_type": "stream",
     "text": [
      "\n",
      " i have a dogi.\n",
      "\n",
      " My dogi is  sherro \n",
      "\n",
      " i have a dogi.\n",
      "\n",
      " My dogi is tommy \n"
     ]
    }
   ],
   "source": [
    "def describe_pet(pet_type, pet_name):\n",
    "    \"\"\"displays information about pet\"\"\"\n",
    "    print(f\"\\n i have a {pet_type}.\"),\n",
    "    print(f\"\\n My {pet_type} is {pet_name} \"),\n",
    "describe_pet(\"dogi\", \" sherro\")\n",
    "describe_pet(\"dogi\",\"tommy\")"
   ]
  },
  {
   "cell_type": "code",
   "execution_count": 26,
   "metadata": {},
   "outputs": [
    {
     "ename": "SyntaxError",
     "evalue": "invalid syntax (<ipython-input-26-f8a7d2540528>, line 4)",
     "output_type": "error",
     "traceback": [
      "\u001b[1;36m  File \u001b[1;32m\"<ipython-input-26-f8a7d2540528>\"\u001b[1;36m, line \u001b[1;32m4\u001b[0m\n\u001b[1;33m    full_name =f \"{first_name} {last_name}\"\u001b[0m\n\u001b[1;37m                 ^\u001b[0m\n\u001b[1;31mSyntaxError\u001b[0m\u001b[1;31m:\u001b[0m invalid syntax\n"
     ]
    }
   ],
   "source": [
    "def get_formatted_name(first_name, last_name):\n",
    "    \n",
    "    \"\"\"Return a full name, neatly formatted.\"\"\"\n",
    "    full_name =f \"{first_name} {last_name}\"\n",
    "    return full_name.title\n",
    "get_formatted_name(\"jawad\", \"faad\")\n",
    "\n"
   ]
  },
  {
   "cell_type": "code",
   "execution_count": null,
   "metadata": {},
   "outputs": [],
   "source": []
  },
  {
   "cell_type": "code",
   "execution_count": null,
   "metadata": {},
   "outputs": [],
   "source": []
  },
  {
   "cell_type": "code",
   "execution_count": null,
   "metadata": {},
   "outputs": [],
   "source": []
  }
 ],
 "metadata": {
  "kernelspec": {
   "display_name": "Python 3",
   "language": "python",
   "name": "python3"
  },
  "language_info": {
   "codemirror_mode": {
    "name": "ipython",
    "version": 3
   },
   "file_extension": ".py",
   "mimetype": "text/x-python",
   "name": "python",
   "nbconvert_exporter": "python",
   "pygments_lexer": "ipython3",
   "version": "3.8.5"
  }
 },
 "nbformat": 4,
 "nbformat_minor": 4
}
